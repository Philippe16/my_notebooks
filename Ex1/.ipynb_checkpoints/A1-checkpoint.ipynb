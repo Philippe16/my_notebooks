{
 "cells": [
  {
   "cell_type": "code",
   "execution_count": 6,
   "id": "e6315368-ecba-4420-959d-5c0cd101d83b",
   "metadata": {},
   "outputs": [
    {
     "name": "stdout",
     "output_type": "stream",
     "text": [
      "['Hans', 'Hugo']\n"
     ]
    }
   ],
   "source": [
    "names = [\"John\",\"Hans\",\"Lisa\",\"Hugo\"]\n",
    "result = [name for name in names if \"H\" in name]\n",
    "print(result)"
   ]
  },
  {
   "cell_type": "code",
   "execution_count": 7,
   "id": "4e4a4bd6-d905-411f-8029-8c3ce157f73e",
   "metadata": {},
   "outputs": [
    {
     "name": "stdout",
     "output_type": "stream",
     "text": [
      "[1, 8, 27, 64, 125, 216, 343, 512, 729, 1000, 1331, 1728, 2197, 2744, 3375, 4096, 4913, 5832, 6859, 8000, 9261, 10648, 12167, 13824, 15625, 17576, 19683, 21952, 24389, 27000, 29791, 32768, 35937, 39304, 42875, 46656, 50653, 54872, 59319, 64000, 68921, 74088, 79507, 85184, 91125, 97336, 103823, 110592, 117649, 125000, 132651, 140608, 148877, 157464, 166375, 175616, 185193, 195112, 205379, 216000, 226981, 238328, 250047, 262144, 274625, 287496, 300763, 314432, 328509, 343000, 357911, 373248, 389017, 405224, 421875, 438976, 456533, 474552, 493039, 512000, 531441, 551368, 571787, 592704, 614125, 636056, 658503, 681472, 704969, 729000, 753571, 778688, 804357, 830584, 857375, 884736, 912673, 941192, 970299, 1000000]\n"
     ]
    }
   ],
   "source": [
    "lst = [value**3 for value in range(1,100+1)]\n",
    "print(lst)"
   ]
  },
  {
   "cell_type": "code",
   "execution_count": 79,
   "id": "537fcd30-d571-4e0c-a867-bc3ab7066454",
   "metadata": {},
   "outputs": [
    {
     "data": {
      "text/plain": [
       "[(6, 'Johnny'), (4, 'Hans'), (6, 'Norman'), (4, 'Hugo')]"
      ]
     },
     "execution_count": 79,
     "metadata": {},
     "output_type": "execute_result"
    }
   ],
   "source": [
    "names = [\"Johnny\",\"Hans\",\"Norman\",\"Hugo\"]\n",
    "names_tuples = tuple(names)\n",
    "name_tuples = [(len(x), x) for x in names]\n",
    "name_tuples"
   ]
  },
  {
   "cell_type": "code",
   "execution_count": 58,
   "id": "f0818ac8-428d-45c9-8f70-302a69597edf",
   "metadata": {},
   "outputs": [
    {
     "name": "stdout",
     "output_type": "stream",
     "text": [
      "['2', '1', '4', '3']\n"
     ]
    }
   ],
   "source": [
    "str = \"random2143@mail.dk\"\n",
    "\n",
    "chInString = [ch for ch in string if ch.isnumeric()]\n",
    "print(chInString)"
   ]
  },
  {
   "cell_type": "code",
   "execution_count": 66,
   "id": "75d7517d-e512-405b-87af-6562a6e10342",
   "metadata": {},
   "outputs": [
    {
     "name": "stdout",
     "output_type": "stream",
     "text": [
      "[(1, 1), (1, 2), (1, 3), (1, 4), (1, 5), (1, 6), (2, 1), (2, 2), (2, 3), (2, 4), (2, 5), (2, 6), (3, 1), (3, 2), (3, 3), (3, 4), (3, 5), (3, 6), (4, 1), (4, 2), (4, 3), (4, 4), (4, 5), (4, 6), (5, 1), (5, 2), (5, 3), (5, 4), (5, 5), (5, 6), (6, 1), (6, 2), (6, 3), (6, 4), (6, 5), (6, 6)]\n"
     ]
    }
   ],
   "source": [
    "from itertools import product\n",
    "\n",
    "Dice = 2\n",
    "\n",
    "temp =[list(range(1,6+1)) for value in range(Dice)]\n",
    "\n",
    "result = list(product(*temp))\n",
    "\n",
    "print(result)"
   ]
  },
  {
   "cell_type": "code",
   "execution_count": 95,
   "id": "9c6ecd33-d0f2-4e33-8bc5-74d33f659af8",
   "metadata": {},
   "outputs": [
    {
     "data": {
      "text/plain": [
       "[{(1, 1),\n",
       "  (1, 2),\n",
       "  (1, 3),\n",
       "  (1, 4),\n",
       "  (1, 5),\n",
       "  (1, 6),\n",
       "  (2, 2),\n",
       "  (2, 3),\n",
       "  (2, 4),\n",
       "  (2, 5),\n",
       "  (2, 6),\n",
       "  (3, 3),\n",
       "  (3, 4),\n",
       "  (3, 5),\n",
       "  (3, 6),\n",
       "  (4, 4),\n",
       "  (4, 5),\n",
       "  (4, 6),\n",
       "  (5, 5),\n",
       "  (5, 6),\n",
       "  (6, 6)}]"
      ]
     },
     "execution_count": 95,
     "metadata": {},
     "output_type": "execute_result"
    }
   ],
   "source": [
    "def dice():\n",
    "    return [set((i,j) for i in range(1,7) for j in range(1,7) if not i>j)]\n",
    "dice()"
   ]
  },
  {
   "cell_type": "code",
   "execution_count": 78,
   "id": "a4c3703c-a199-474c-8de7-78436f0f8445",
   "metadata": {},
   "outputs": [
    {
     "data": {
      "text/plain": [
       "{'Johnny': 6, 'Debrah': 6, 'Boris': 5, 'Peter': 5}"
      ]
     },
     "execution_count": 78,
     "metadata": {},
     "output_type": "execute_result"
    }
   ],
   "source": [
    "names = [\"Johnny\", \"Debrah\", \"Boris\", \"Peter\"]\n",
    "dict([(key, len(key)) for key in names])"
   ]
  },
  {
   "cell_type": "code",
   "execution_count": 94,
   "id": "8a1ec3e9-4fee-49c1-b99d-230eced260f6",
   "metadata": {},
   "outputs": [
    {
     "data": {
      "text/plain": [
       "{40: 6.324555320336759,\n",
       " 30: 5.477225575051661,\n",
       " 55: 7.416198487095663,\n",
       " 12: 3.4641016151377544,\n",
       " 16: 4.0,\n",
       " 66: 8.12403840463596}"
      ]
     },
     "execution_count": 94,
     "metadata": {},
     "output_type": "execute_result"
    }
   ],
   "source": [
    "import math\n",
    "numbers = [40, 30, 55, 12, 16, 66]\n",
    "dict([(key, math.sqrt(key)) for key in numbers])"
   ]
  }
 ],
 "metadata": {
  "kernelspec": {
   "display_name": "Python 3 (ipykernel)",
   "language": "python",
   "name": "python3"
  },
  "language_info": {
   "codemirror_mode": {
    "name": "ipython",
    "version": 3
   },
   "file_extension": ".py",
   "mimetype": "text/x-python",
   "name": "python",
   "nbconvert_exporter": "python",
   "pygments_lexer": "ipython3",
   "version": "3.10.5"
  }
 },
 "nbformat": 4,
 "nbformat_minor": 5
}
